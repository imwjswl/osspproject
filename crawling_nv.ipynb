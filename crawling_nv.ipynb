{
 "cells": [
  {
   "cell_type": "code",
   "execution_count": 1,
   "id": "83be77f8",
   "metadata": {},
   "outputs": [],
   "source": [
    "from selenium import webdriver\n",
    "from selenium.webdriver.common.keys import Keys\n",
    "\n",
    "from selenium.common.exceptions import TimeoutException\n",
    "from selenium.webdriver.support.ui import WebDriverWait\n",
    "from selenium.webdriver.support import expected_conditions as EC\n",
    "from selenium.webdriver.common.by import By\n",
    "import time\n",
    "from bs4 import BeautifulSoup"
   ]
  },
  {
   "cell_type": "code",
   "execution_count": 2,
   "id": "343e89d5",
   "metadata": {},
   "outputs": [
    {
     "name": "stdout",
     "output_type": "stream",
     "text": [
      "search key: 서울 크로스핏\n"
     ]
    }
   ],
   "source": [
    "#search_key = input(\"enter which you search: \")\n",
    "search_key = '서울 크로스핏'\n",
    "print(\"search key: %s\" %search_key)\n",
    "\n",
    "driver = webdriver.Chrome()\n",
    "driver.get(\"https://map.naver.com/v5/search\")"
   ]
  },
  {
   "cell_type": "code",
   "execution_count": 5,
   "id": "1e606855",
   "metadata": {},
   "outputs": [
    {
     "name": "stdout",
     "output_type": "stream",
     "text": [
      "Timed out waiting for page to load\n",
      "end load!\n",
      "raw is: None\n"
     ]
    },
    {
     "ename": "TypeError",
     "evalue": "object of type 'NoneType' has no len()",
     "output_type": "error",
     "traceback": [
      "\u001b[1;31m---------------------------------------------------------------------------\u001b[0m",
      "\u001b[1;31mTypeError\u001b[0m                                 Traceback (most recent call last)",
      "Input \u001b[1;32mIn [5]\u001b[0m, in \u001b[0;36m<cell line: 3>\u001b[1;34m()\u001b[0m\n\u001b[0;32m     36\u001b[0m raw \u001b[38;5;241m=\u001b[39m driver\u001b[38;5;241m.\u001b[39mexecute_script(\u001b[38;5;124m\"\u001b[39m\u001b[38;5;124mreturn \u001b[39m\u001b[38;5;124m\"\u001b[39m \u001b[38;5;241m+\u001b[39m js_script)\n\u001b[0;32m     37\u001b[0m \u001b[38;5;28mprint\u001b[39m(\u001b[38;5;124m'\u001b[39m\u001b[38;5;124mraw is: \u001b[39m\u001b[38;5;132;01m%s\u001b[39;00m\u001b[38;5;124m'\u001b[39m \u001b[38;5;241m%\u001b[39mraw)\n\u001b[1;32m---> 38\u001b[0m html \u001b[38;5;241m=\u001b[39m \u001b[43mBeautifulSoup\u001b[49m\u001b[43m(\u001b[49m\u001b[43mraw\u001b[49m\u001b[43m,\u001b[49m\u001b[43m \u001b[49m\u001b[38;5;124;43m\"\u001b[39;49m\u001b[38;5;124;43mhtml.parser\u001b[39;49m\u001b[38;5;124;43m\"\u001b[39;49m\u001b[43m)\u001b[49m\n\u001b[0;32m     39\u001b[0m contents \u001b[38;5;241m=\u001b[39m html\u001b[38;5;241m.\u001b[39mselect(\u001b[38;5;124m\"\u001b[39m\u001b[38;5;124mdiv > div.ps-content > div > div > div .item_search\u001b[39m\u001b[38;5;124m\"\u001b[39m)\n\u001b[0;32m     40\u001b[0m \u001b[38;5;28;01mfor\u001b[39;00m s \u001b[38;5;129;01min\u001b[39;00m contents:\n",
      "File \u001b[1;32m~\\anaconda3\\lib\\site-packages\\bs4\\__init__.py:313\u001b[0m, in \u001b[0;36mBeautifulSoup.__init__\u001b[1;34m(self, markup, features, builder, parse_only, from_encoding, exclude_encodings, element_classes, **kwargs)\u001b[0m\n\u001b[0;32m    311\u001b[0m \u001b[38;5;28;01mif\u001b[39;00m \u001b[38;5;28mhasattr\u001b[39m(markup, \u001b[38;5;124m'\u001b[39m\u001b[38;5;124mread\u001b[39m\u001b[38;5;124m'\u001b[39m):        \u001b[38;5;66;03m# It's a file-type object.\u001b[39;00m\n\u001b[0;32m    312\u001b[0m     markup \u001b[38;5;241m=\u001b[39m markup\u001b[38;5;241m.\u001b[39mread()\n\u001b[1;32m--> 313\u001b[0m \u001b[38;5;28;01melif\u001b[39;00m \u001b[38;5;28;43mlen\u001b[39;49m\u001b[43m(\u001b[49m\u001b[43mmarkup\u001b[49m\u001b[43m)\u001b[49m \u001b[38;5;241m<\u001b[39m\u001b[38;5;241m=\u001b[39m \u001b[38;5;241m256\u001b[39m \u001b[38;5;129;01mand\u001b[39;00m (\n\u001b[0;32m    314\u001b[0m         (\u001b[38;5;28misinstance\u001b[39m(markup, \u001b[38;5;28mbytes\u001b[39m) \u001b[38;5;129;01mand\u001b[39;00m \u001b[38;5;129;01mnot\u001b[39;00m \u001b[38;5;124mb\u001b[39m\u001b[38;5;124m'\u001b[39m\u001b[38;5;124m<\u001b[39m\u001b[38;5;124m'\u001b[39m \u001b[38;5;129;01min\u001b[39;00m markup)\n\u001b[0;32m    315\u001b[0m         \u001b[38;5;129;01mor\u001b[39;00m (\u001b[38;5;28misinstance\u001b[39m(markup, \u001b[38;5;28mstr\u001b[39m) \u001b[38;5;129;01mand\u001b[39;00m \u001b[38;5;129;01mnot\u001b[39;00m \u001b[38;5;124m'\u001b[39m\u001b[38;5;124m<\u001b[39m\u001b[38;5;124m'\u001b[39m \u001b[38;5;129;01min\u001b[39;00m markup)\n\u001b[0;32m    316\u001b[0m ):\n\u001b[0;32m    317\u001b[0m     \u001b[38;5;66;03m# Issue warnings for a couple beginner problems\u001b[39;00m\n\u001b[0;32m    318\u001b[0m     \u001b[38;5;66;03m# involving passing non-markup to Beautiful Soup.\u001b[39;00m\n\u001b[0;32m    319\u001b[0m     \u001b[38;5;66;03m# Beautiful Soup will still parse the input as markup,\u001b[39;00m\n\u001b[0;32m    320\u001b[0m     \u001b[38;5;66;03m# since that is sometimes the intended behavior.\u001b[39;00m\n\u001b[0;32m    321\u001b[0m     \u001b[38;5;28;01mif\u001b[39;00m \u001b[38;5;129;01mnot\u001b[39;00m \u001b[38;5;28mself\u001b[39m\u001b[38;5;241m.\u001b[39m_markup_is_url(markup):\n\u001b[0;32m    322\u001b[0m         \u001b[38;5;28mself\u001b[39m\u001b[38;5;241m.\u001b[39m_markup_resembles_filename(markup)                \n",
      "\u001b[1;31mTypeError\u001b[0m: object of type 'NoneType' has no len()"
     ]
    }
   ],
   "source": [
    "timeout = 3\n",
    "time.sleep(3)\n",
    "try:\n",
    "    element_present = EC.presence_of_element_located((By.ID, 'main'))\n",
    "    WebDriverWait(driver, timeout).until(element_present)\n",
    "except TimeoutException:\n",
    "    print(\"Timed out waiting for page to load\")\n",
    "finally:\n",
    "    print('end load!')\n",
    "    # 팝업 창 제거\n",
    "    #driver.find_element(By.CSS_SELECTOR,\"button#intro_popup_close\").click()\n",
    "\n",
    "    # 검색창에 검색어 입력하기\n",
    "    search_box = driver.find_element(By.CSS_SELECTOR,\"div.input_box>input.input_search\")\n",
    "    search_box.send_keys(search_key)\n",
    "\n",
    "    time.sleep(3)\n",
    "\n",
    "    # 검색버튼 누르기\n",
    "    search_box.send_keys(Keys.ENTER)\n",
    "\n",
    "    xpath = \"//*[@id=\\\"searchIframe\\\"]\"\n",
    "    for actualRow in driver.find_elements(By.XPATH,xpath):\n",
    "        thisRowsTD=actualRow[0]\n",
    "        print(thisRowsTD.text)\n",
    "\n",
    "\n",
    "\n",
    "    # 크롤링\n",
    "    for p in range(20):\n",
    "        \n",
    "        #js_script = \"document.querySelector(\\\"body > app > layout > div > div.container > div.router-output > \"\\\n",
    "        #            \"shrinkable-layout > search-layout > combined-search-list\\\").innerHTML\"\n",
    "        js_script = \"document.querySelector(\\\"#searchIframe\\\")\"\n",
    "        \n",
    "        raw = driver.execute_script(\"return \" + js_script)\n",
    "        print('raw is: %s' %raw)\n",
    "        html = BeautifulSoup(raw, \"html.parser\")\n",
    "        contents = html.select(\"div > div.ps-content > div > div > div .item_search\")\n",
    "        for s in contents:\n",
    "            search_box_html = s.select_one(\".search_box\")\n",
    "            name = search_box_html.select_one(\".title_box .search_title .search_title_text\").text\n",
    "            print(\"식당명: \\t\" + name)\n",
    "            try:\n",
    "                phone = search_box_html.select_one(\".search_text_box .phone\").text\n",
    "            except:\n",
    "                phone = \"NULL\"\n",
    "            print(\"전화번호: \\t\" + phone)\n",
    "            address = search_box_html.select_one(\".ng-star-inserted .roadAddress\").text\n",
    "            print(\"주소: \" + address)\n",
    "            print(\"--\"*30)\n",
    "        # 다음 페이지로 이동\n",
    "        try:\n",
    "            next_btn = driver.find_element_by_css_selector(\"button.btn_next\")\n",
    "            next_btn.click()\n",
    "        except:\n",
    "            print(\"데이터 수집 완료\")\n",
    "            break\n",
    "\n",
    "# 크롭 웹페이지를 닫음\n",
    "driver.close()"
   ]
  },
  {
   "cell_type": "code",
   "execution_count": null,
   "id": "bc9b2dd6",
   "metadata": {},
   "outputs": [],
   "source": []
  }
 ],
 "metadata": {
  "kernelspec": {
   "display_name": "Python 3 (ipykernel)",
   "language": "python",
   "name": "python3"
  },
  "language_info": {
   "codemirror_mode": {
    "name": "ipython",
    "version": 3
   },
   "file_extension": ".py",
   "mimetype": "text/x-python",
   "name": "python",
   "nbconvert_exporter": "python",
   "pygments_lexer": "ipython3",
   "version": "3.9.12"
  }
 },
 "nbformat": 4,
 "nbformat_minor": 5
}
